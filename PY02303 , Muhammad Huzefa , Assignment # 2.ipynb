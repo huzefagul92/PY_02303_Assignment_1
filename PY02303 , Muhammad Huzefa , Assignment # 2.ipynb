{
 "cells": [
  {
   "cell_type": "code",
   "execution_count": 13,
   "metadata": {},
   "outputs": [
    {
     "name": "stdout",
     "output_type": "stream",
     "text": [
      "Enter the maths marks \n",
      "   100\n",
      "Enter the physics marks \n",
      "   100\n",
      "Enter the chemistry marks \n",
      "   9\n",
      "Enter the biology marks \n",
      "   100\n",
      "Enter the computer marks \n",
      "   100\n",
      "       **********************************\n",
      "\n",
      "\n",
      "   The Marksheet of Student\n",
      "   ========================\n",
      "\n",
      "   Nmae of Student :  Muhammad Huzefa\n",
      "\n",
      "   Roll Number     :  PY02303\n",
      "\n",
      "   Grade           :  C\n",
      "\n",
      "   Percentage      : 68.16666666666667\n"
     ]
    }
   ],
   "source": [
    "# Q1 of Assignment # 2\n",
    "\n",
    "# Write a program which takes 5 inputs from user for different subject’s\n",
    "# marks, total it and generate mark sheet using grades ?\n",
    "# ---------------------------------------\n",
    "\n",
    "\n",
    "maths = int(input(\"Enter the maths marks \\n   \"))\n",
    "physics = int(input(\"Enter the physics marks \\n   \"))\n",
    "chemistry = int(input(\"Enter the chemistry marks \\n   \"))\n",
    "biology = int(input(\"Enter the biology marks \\n   \"))\n",
    "computer = int(input(\"Enter the computer marks \\n   \"))\n",
    "\n",
    "total_marks = maths + physics + chemistry + biology + computer\n",
    "\n",
    "perc = total_marks * 100/600\n",
    "\n",
    "print(\"       **********************************\\n\")\n",
    "print(\"\\n   The Marksheet of Student\")\n",
    "print(\"   ========================\")\n",
    "print(\"\\n   Nmae of Student :  Muhammad Huzefa\")\n",
    "print(\"\\n   Roll Number     :  PY02303\")\n",
    "if perc > 80 :\n",
    "    print(\"\\n   Grade           :  A\")\n",
    "    print(\"\\n   Percentage      :\",perc)\n",
    "    \n",
    "elif perc < 80 and perc > 70 :\n",
    "    print(\"\\n   Grade           :  B\")\n",
    "    print(\"\\n   Percentage      :\",perc)\n",
    "    \n",
    "elif perc < 70 and perc > 60 :\n",
    "    print(\"\\n   Grade           :  C\")\n",
    "    print(\"\\n   Percentage      :\",perc)\n",
    "    \n",
    "elif perc < 60 and perc > 50 :\n",
    "    print(\"\\n   Grade           :  D\")\n",
    "    print(\"\\n   Percentage      :\",perc)\n",
    "    \n",
    "elif perc < 50 and perc > 40 :\n",
    "    print(\"\\n   Grade           :  E\")\n",
    "    print(\"\\n   Percentage      :\",perc)\n",
    "    \n",
    "elif perc < 40 and perc > 30 :\n",
    "    print(\"\\n   Grade           :  F\")\n",
    "    print(\"\\n   Percentage      :\",perc)\n",
    "    \n",
    "else :\n",
    "    print(\"\\n   Student is Failed \")\n"
   ]
  },
  {
   "cell_type": "code",
   "execution_count": 16,
   "metadata": {},
   "outputs": [
    {
     "name": "stdout",
     "output_type": "stream",
     "text": [
      "Enter the desire number\n",
      "   8\n",
      "The 8 is Even\n"
     ]
    }
   ],
   "source": [
    "# Q2 of Assignment # 2\n",
    "# Write a program which take input from user and identify that the given\n",
    "# number is even or odd?\n",
    "# ---------------------------------------\n",
    "\n",
    "given_num = int(input(\"Enter the desire number\\n   \"))\n",
    "\n",
    "if given_num%2 == 0 :\n",
    "    print(\"The\", given_num, \"is Even\")\n",
    "else :\n",
    "    print(\"\\n   The\", given_num, \"is Odd\")\n"
   ]
  },
  {
   "cell_type": "code",
   "execution_count": 17,
   "metadata": {},
   "outputs": [
    {
     "name": "stdout",
     "output_type": "stream",
     "text": [
      "the length of the list of numbers is: 9\n"
     ]
    }
   ],
   "source": [
    "# Q3 of Assignment # 2\n",
    "# Write a program which print the length of the list?\n",
    "# ---------------------------------------\n",
    "\n",
    "list_of_numbers = [0,1,1,2,3,5,8,13,21]\n",
    "length = len(list_of_numbers)\n",
    "\n",
    "print(\"the length of the list of numbers is:\", length)"
   ]
  },
  {
   "cell_type": "code",
   "execution_count": 18,
   "metadata": {},
   "outputs": [
    {
     "name": "stdout",
     "output_type": "stream",
     "text": [
      "the sum of the elemments in the list_of_numbers is: 54\n"
     ]
    }
   ],
   "source": [
    "# Q4 of Assignment # 2\n",
    "# Write a Python program to sum all the numeric items in a list?\n",
    "# ---------------------------------------\n",
    "\n",
    "list_of_numbers = [0,1,1,2,3,5,8,13,21]\n",
    "sum_of_elements = 0\n",
    "\n",
    "for element in list_of_numbers:\n",
    "    sum_of_elements = sum_of_elements + element\n",
    "    \n",
    "print(\"the sum of the elemments in the list_of_numbers is:\",sum_of_elements)"
   ]
  },
  {
   "cell_type": "code",
   "execution_count": 19,
   "metadata": {},
   "outputs": [
    {
     "name": "stdout",
     "output_type": "stream",
     "text": [
      "the largests number in the list_of_numbers is: 300\n"
     ]
    }
   ],
   "source": [
    "# Q5 of Assignment # 2\n",
    "# Write a Python program to get the largest number from a numeric list.\n",
    "# ---------------------------------------\n",
    "\n",
    "list_of_numbers = [5,2,8,6,9,2,1,7,0,300,40]\n",
    "largest_number = 0\n",
    "\n",
    "for element in list_of_numbers:\n",
    "    if element > largest_number:\n",
    "        largest_number = element\n",
    "    \n",
    "print(\"the largests number in the list_of_numbers is:\",largest_number)"
   ]
  },
  {
   "cell_type": "code",
   "execution_count": 20,
   "metadata": {},
   "outputs": [
    {
     "name": "stdout",
     "output_type": "stream",
     "text": [
      "     1 \n",
      "\n",
      "     1 \n",
      "\n",
      "     2 \n",
      "\n",
      "     3 \n",
      "\n"
     ]
    }
   ],
   "source": [
    "# Q6 of Assignment # 2\n",
    "# Take a list, say for example this one:\n",
    "#         a = [1, 1, 2, 3, 5, 8, 13, 21, 34, 55, 89]\n",
    "# and write a program that prints out all the elements of the list that are\n",
    "# less than 5.\n",
    "# ---------------------------------------\n",
    "\n",
    "a = [1,1,2,3,5,8,13,21,34,55,89]\n",
    "\n",
    "for element in a :\n",
    "    if element < 5 :\n",
    "        print(\"    \",element,\"\\n\")\n"
   ]
  }
 ],
 "metadata": {
  "celltoolbar": "Tags",
  "kernelspec": {
   "display_name": "Python 3",
   "language": "python",
   "name": "python3"
  },
  "language_info": {
   "codemirror_mode": {
    "name": "ipython",
    "version": 3
   },
   "file_extension": ".py",
   "mimetype": "text/x-python",
   "name": "python",
   "nbconvert_exporter": "python",
   "pygments_lexer": "ipython3",
   "version": "3.7.4"
  }
 },
 "nbformat": 4,
 "nbformat_minor": 2
}
