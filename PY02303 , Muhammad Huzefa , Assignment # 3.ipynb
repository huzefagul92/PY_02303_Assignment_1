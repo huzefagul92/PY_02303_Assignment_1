{
 "cells": [
  {
   "cell_type": "code",
   "execution_count": null,
   "metadata": {},
   "outputs": [],
   "source": [
    "# Q1 of Assignment # 3\n",
    "# Make a calculator using Python with addition , subtraction , multiplication ,\n",
    "# division and power.\n",
    "# ---------------------------------------\n",
    "\n",
    "operand_1 = float(input(\"     Enter first number   \"))\n",
    "operand_2 = float(input(\"\\n   Enter second number   \"))\n",
    "operator = input(\"\\n   Enter operation to be performed between val_1 and val_2\\n \\\n",
    "                + for addition\\n \\\n",
    "                - for subtraction\\n \\\n",
    "                * for multiplication\\n \\\n",
    "                / for division\\n \\\n",
    "                and \\ ** for power\")\n",
    "if operator == \"+\" :\n",
    "    summation = operand_1 + operand_2\n",
    "    print(\" \\n the sum of two operands is :\", summation)\n",
    "if operator == \"-\" :\n",
    "    subtraction = operand_1 - operand_2\n",
    "    print(\" \\n the difference of two operands is :\", subtraction)\n",
    "if operator == \"*\" :\n",
    "    multiplication = operand_1 * operand_2\n",
    "    print(\" \\n the product of two operands is :\", multiplication)\n",
    "if operator == \"/\" :\n",
    "    division = operand_1 / operand_2\n",
    "    print(\" \\n the quotient of two operands is :\", division)\n",
    "if operator ==\"**\" :\n",
    "    power = operand_1 ** operand_2\n",
    "    print(\" \\n the operand_2 as the power of operand_1 is :\", power)\n"
   ]
  },
  {
   "cell_type": "code",
   "execution_count": 1,
   "metadata": {},
   "outputs": [
    {
     "name": "stdout",
     "output_type": "stream",
     "text": [
      "There is numeric value which is : 88\n"
     ]
    }
   ],
   "source": [
    "# Q2 of Assignment # 3\n",
    "# Write a program to check if there is any numeric value in list using \n",
    "# for loop\n",
    "# ---------------------------------------\n",
    "\n",
    "mix_list = [\"Muhammad Huzefa\", 88, \"PIAIC\", \"Saylani\", \"Mass Training\"]\n",
    "\n",
    "for element_value in mix_list :\n",
    "    if element_value == mix_list[1] :\n",
    "        print(\"There is numeric value which is :\", element_value)\n"
   ]
  },
  {
   "cell_type": "code",
   "execution_count": 19,
   "metadata": {},
   "outputs": [
    {
     "name": "stdout",
     "output_type": "stream",
     "text": [
      "{'firsr_key': '1000'}\n"
     ]
    }
   ],
   "source": [
    "# Q3 of Assignment # 3\n",
    "# Write a Python script to add a key to a dictionary\n",
    "# ---------------------------------------\n",
    "\n",
    "# new empty dictionary\n",
    "new_dict = {}\n",
    "\n",
    "# adding a key to new_dict\n",
    "new_dict['firsr_key'] = '1000'\n",
    "\n",
    "#printing new_dict\n",
    "print(new_dict)\n"
   ]
  },
  {
   "cell_type": "code",
   "execution_count": 7,
   "metadata": {},
   "outputs": [
    {
     "name": "stdout",
     "output_type": "stream",
     "text": [
      "15\n"
     ]
    }
   ],
   "source": [
    "# Q4 of Assignment # 3\n",
    "# Write a Python program to sum all the numeric items in a dictionary\n",
    "# ---------------------------------------\n",
    "\n",
    "# new dictionary\n",
    "new_dict = {'item_1': 1, 'item_2': 2, 'item_3': 3, 'item_4': 4, 'item_5': 5}\n",
    "\n",
    "summation = 0\n",
    "\n",
    "for item in new_dict :\n",
    "   # print(new_dict[item])\n",
    "     summation = summation + new_dict[item]\n",
    "    \n",
    "print(summation)\n",
    "    "
   ]
  },
  {
   "cell_type": "code",
   "execution_count": 3,
   "metadata": {},
   "outputs": [
    {
     "name": "stdout",
     "output_type": "stream",
     "text": [
      "[90, 20, 40, 70, -20]\n"
     ]
    }
   ],
   "source": [
    "# Q5 of Assignment # 3\n",
    "# Write a program to identify duplicate values from list\n",
    "# ---------------------------------------\n",
    "\n",
    "\n",
    "listing = [90, 20, 40, 20, 20, 70, 40, 90, -20, 60, 40, -20, 70] \n",
    "\n",
    "_size = len(listing) \n",
    "repeated = [] \n",
    "for i in range(_size): \n",
    "    k = i + 1\n",
    "    for j in range(k, _size): \n",
    "        if listing[i] == listing[j] and listing[i] not in repeated: \n",
    "            repeated.append(listing[i]) \n",
    "            \n",
    "\n",
    "print (repeated) \n"
   ]
  },
  {
   "cell_type": "code",
   "execution_count": 2,
   "metadata": {},
   "outputs": [
    {
     "name": "stdout",
     "output_type": "stream",
     "text": [
      "Present,  value = 1\n",
      "Present,  value = 7\n"
     ]
    }
   ],
   "source": [
    "# Q6 of Assignment # 3\n",
    "# Write a Python script to check if a given key already exists in a dictionary\n",
    "# ---------------------------------------\n",
    "\n",
    "\n",
    "def checkKey(dict, key): \n",
    "      \n",
    "    if key in dict.keys(): \n",
    "        print(\"Present, \", end =\" \") \n",
    "        print(\"value =\", dict[key]) \n",
    "    else: \n",
    "        print(\"Not present\") \n",
    "  \n",
    "# Driver Code \n",
    "dict = {'Jan': 1, 'Feb':2, 'Mar':3, 'April':4, 'May':500,\n",
    "       'Jun': 6, 'Jul': 7, 'Aug': 8, 'Sep': 9, 'Oct': 10, 'Nov': 11, 'Dec': 12} \n",
    "  \n",
    "key = 'Jan'\n",
    "checkKey(dict, key) \n",
    "  \n",
    "key = 'Jul'\n",
    "checkKey(dict, key) "
   ]
  },
  {
   "cell_type": "code",
   "execution_count": null,
   "metadata": {},
   "outputs": [],
   "source": []
  }
 ],
 "metadata": {
  "kernelspec": {
   "display_name": "Python 3",
   "language": "python",
   "name": "python3"
  },
  "language_info": {
   "codemirror_mode": {
    "name": "ipython",
    "version": 3
   },
   "file_extension": ".py",
   "mimetype": "text/x-python",
   "name": "python",
   "nbconvert_exporter": "python",
   "pygments_lexer": "ipython3",
   "version": "3.7.4"
  }
 },
 "nbformat": 4,
 "nbformat_minor": 2
}
